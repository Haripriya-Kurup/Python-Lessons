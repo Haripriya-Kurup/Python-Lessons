{
 "cells": [
  {
   "cell_type": "markdown",
   "id": "fce89c8c",
   "metadata": {},
   "source": [
    "# Control Flow in python\n",
    "\n",
    "1. Conditional statements : if , if -else, if- elif -else\n",
    "2.  Iterative sttements : for , while\n",
    "\n",
    "## Control flow  tools- continue , break, pass"
   ]
  },
  {
   "cell_type": "markdown",
   "id": "cd99ba6a",
   "metadata": {},
   "source": [
    "# if statement\n",
    "\n"
   ]
  },
  {
   "cell_type": "code",
   "execution_count": 9,
   "id": "88fa77a4",
   "metadata": {},
   "outputs": [
    {
     "name": "stdout",
     "output_type": "stream",
     "text": [
      " x is greater than 5\n"
     ]
    }
   ],
   "source": [
    "x = 10\n",
    "if x > 5 :\n",
    "    print(' x is greater than 5')\n",
    "    "
   ]
  },
  {
   "cell_type": "markdown",
   "id": "b4a29903",
   "metadata": {},
   "source": [
    "# if - else statement"
   ]
  },
  {
   "cell_type": "code",
   "execution_count": 10,
   "id": "1bdd4e61",
   "metadata": {},
   "outputs": [
    {
     "name": "stdout",
     "output_type": "stream",
     "text": [
      "x not greater than 5\n"
     ]
    }
   ],
   "source": [
    "x = 3\n",
    "if x > 5 :\n",
    "    print(' x is greater than 5')\n",
    "else :\n",
    "    print('x not greater than 5')\n",
    "    "
   ]
  },
  {
   "cell_type": "code",
   "execution_count": 5,
   "id": "d2e6a0fe",
   "metadata": {},
   "outputs": [
    {
     "name": "stdout",
     "output_type": "stream",
     "text": [
      " x is greater than 5 but less than or equal to 15\n"
     ]
    }
   ],
   "source": [
    "## 'if-elif-else' Statement\n",
    "x=10\n",
    "if x > 15:\n",
    "    print('x is greater than 15')\n",
    "elif x > 5:\n",
    "    print(' x is greater than 5 but less than or equal to 15')\n",
    "else :\n",
    "     print('x is 5 0r less')\n"
   ]
  },
  {
   "cell_type": "markdown",
   "id": "aee10e40",
   "metadata": {},
   "source": [
    "# Looping statements : for loop , while loop"
   ]
  },
  {
   "cell_type": "markdown",
   "id": "bacda69e",
   "metadata": {},
   "source": [
    "## 'for' loop iterates over a sequence( such as list,tuple,dictionary,set or string)"
   ]
  },
  {
   "cell_type": "code",
   "execution_count": 7,
   "id": "0c45a558",
   "metadata": {},
   "outputs": [
    {
     "name": "stdout",
     "output_type": "stream",
     "text": [
      "0\n",
      "1\n",
      "2\n",
      "3\n",
      "4\n"
     ]
    }
   ],
   "source": [
    "for i in range(5):\n",
    "    print(i)"
   ]
  },
  {
   "cell_type": "markdown",
   "id": "2f4bf2d3",
   "metadata": {},
   "source": [
    "## 'while' loop -executes a block of code as long as the specified condition is true."
   ]
  },
  {
   "cell_type": "code",
   "execution_count": 8,
   "id": "471f33ef",
   "metadata": {},
   "outputs": [
    {
     "name": "stdout",
     "output_type": "stream",
     "text": [
      "0\n",
      "1\n",
      "2\n",
      "3\n",
      "4\n"
     ]
    }
   ],
   "source": [
    "count = 0\n",
    "while count < 5 :\n",
    "    print(count)\n",
    "    count += 1"
   ]
  },
  {
   "cell_type": "markdown",
   "id": "1ac21e8a",
   "metadata": {},
   "source": [
    "# Control Flow Tools - break ,continue , pass"
   ]
  },
  {
   "cell_type": "markdown",
   "id": "37cd9d14",
   "metadata": {},
   "source": [
    "Python provides several tools to control the flow of loops and conditionals."
   ]
  },
  {
   "cell_type": "markdown",
   "id": "b23ae96a",
   "metadata": {},
   "source": []
  },
  {
   "cell_type": "code",
   "execution_count": null,
   "id": "dd25b8d2",
   "metadata": {},
   "outputs": [],
   "source": [
    "for i in range(10):\n",
    "    if i % 2 == 0:\n",
    "        pass\n",
    "    else :\n",
    "        print()\n"
   ]
  },
  {
   "cell_type": "code",
   "execution_count": 11,
   "id": "7b5cce3b",
   "metadata": {},
   "outputs": [
    {
     "name": "stdout",
     "output_type": "stream",
     "text": [
      "[24, 36, 48, 42]\n"
     ]
    }
   ],
   "source": [
    "#Filter the even numbers from a list\n",
    "\n",
    "data = [ 24,36,27,48,43,42,29]\n",
    "filtered_data = [ x for x in data if x % 2 == 0]\n",
    "print(filtered_data)"
   ]
  },
  {
   "cell_type": "code",
   "execution_count": 12,
   "id": "d7faee89",
   "metadata": {},
   "outputs": [
    {
     "name": "stdout",
     "output_type": "stream",
     "text": [
      "Sum of the numbers : 68\n"
     ]
    }
   ],
   "source": [
    "#Calculate the sum of all elements in a list\n",
    "\n",
    "data = [12,10,14,15,17]\n",
    "total = 0\n",
    "for num in data :\n",
    "    total += num\n",
    "print('Sum of the numbers :', total)"
   ]
  },
  {
   "cell_type": "code",
   "execution_count": 15,
   "id": "9c458806",
   "metadata": {},
   "outputs": [
    {
     "name": "stdout",
     "output_type": "stream",
     "text": [
      "1\n",
      "2\n",
      "Fizz\n",
      "4\n",
      "5\n",
      "Fizz\n",
      "7\n",
      "8\n",
      "Fizz\n",
      "10\n",
      "11\n",
      "Fizz\n",
      "13\n",
      "14\n",
      "FizzBuzz\n",
      "16\n",
      "17\n",
      "Fizz\n",
      "19\n",
      "20\n",
      "Fizz\n",
      "22\n",
      "23\n",
      "Fizz\n",
      "25\n",
      "26\n",
      "Fizz\n",
      "28\n",
      "29\n",
      "FizzBuzz\n",
      "31\n",
      "32\n",
      "Fizz\n",
      "34\n",
      "35\n",
      "Fizz\n",
      "37\n",
      "38\n",
      "Fizz\n",
      "40\n",
      "41\n",
      "Fizz\n",
      "43\n",
      "44\n",
      "FizzBuzz\n",
      "46\n",
      "47\n",
      "Fizz\n",
      "49\n",
      "50\n"
     ]
    }
   ],
   "source": [
    "#Write  a progarm that print numbers from 1 to 50\n",
    "#but for multiples of three , print 'Fizz 'instead of the number and for multiples of five\n",
    "#print 'Buzz' ,for numbers which are multiples of both three and five print Fizz Buss\n",
    "\n",
    "for i in range(1,51):\n",
    "    if i % 3  == 0 and i % 5 == 0:\n",
    "        print('FizzBuzz')\n",
    "    elif i % 3 == 0:\n",
    "            print('Fizz')\n",
    "    else:\n",
    "        print(i)"
   ]
  },
  {
   "cell_type": "code",
   "execution_count": null,
   "id": "f613734d",
   "metadata": {},
   "outputs": [],
   "source": [
    "#Write a program to print the numbers between 1 nad 100\n",
    "\n",
    "for num in range(2,101):\n",
    "    is_prime = True\n",
    "    "
   ]
  },
  {
   "cell_type": "code",
   "execution_count": 11,
   "id": "cd64a6f5",
   "metadata": {},
   "outputs": [
    {
     "name": "stdout",
     "output_type": "stream",
     "text": [
      "Please Enter the number\n",
      "456\n",
      "The number is 456\n",
      "Sum of the digits of the number 15\n"
     ]
    }
   ],
   "source": [
    "#Write a program to print the sum of the digits of a number \n",
    "\n",
    "print('Please Enter the number')\n",
    "num = input()\n",
    "\n",
    "print('The number is ' + num)\n",
    "\n",
    "total = 0\n",
    "\n",
    "\n",
    "while int(num) > 0:\n",
    "    digit = int(num) % 10\n",
    "    num = int(num)/10\n",
    "    #num //= 10\n",
    "    #total = total + digit\n",
    "    total += digit\n",
    "print('Sum of the digits of the number',+total)  \n",
    "\n",
    "    \n",
    "    \n",
    "    "
   ]
  },
  {
   "cell_type": "code",
   "execution_count": 12,
   "id": "72752a55",
   "metadata": {},
   "outputs": [
    {
     "name": "stdout",
     "output_type": "stream",
     "text": [
      "0\n",
      "1\n",
      "1\n",
      "2\n",
      "3\n",
      "5\n",
      "8\n",
      "13\n",
      "21\n",
      "34\n"
     ]
    }
   ],
   "source": [
    "# Write a program to print  the Fibonacci sequence upto 'n 'terms\n",
    "n=  10\n",
    "\n",
    "a,b = 0,1\n",
    "\n",
    "for _ in range(n):\n",
    "    print(a)\n",
    "    a,b = b, a + b"
   ]
  },
  {
   "cell_type": "code",
   "execution_count": 13,
   "id": "16489c8c",
   "metadata": {},
   "outputs": [
    {
     "name": "stdout",
     "output_type": "stream",
     "text": [
      "5\n",
      "7\n",
      "9\n",
      "11\n",
      "11\n",
      "13\n",
      "13\n",
      "15\n",
      "17\n",
      "17\n",
      "17\n",
      "19\n",
      "19\n",
      "19\n",
      "21\n",
      "23\n",
      "23\n",
      "23\n",
      "25\n",
      "25\n",
      "25\n",
      "27\n",
      "29\n",
      "29\n",
      "29\n",
      "29\n",
      "31\n",
      "31\n",
      "31\n",
      "31\n",
      "33\n",
      "35\n",
      "35\n",
      "35\n",
      "37\n",
      "37\n",
      "37\n",
      "37\n",
      "37\n",
      "39\n",
      "41\n",
      "41\n",
      "41\n",
      "41\n",
      "41\n",
      "43\n",
      "43\n",
      "43\n",
      "43\n",
      "43\n",
      "45\n",
      "47\n",
      "47\n",
      "47\n",
      "47\n",
      "47\n",
      "49\n",
      "49\n",
      "49\n",
      "49\n",
      "49\n",
      "51\n",
      "53\n",
      "53\n",
      "53\n",
      "53\n",
      "53\n",
      "53\n",
      "55\n",
      "55\n",
      "55\n",
      "57\n",
      "59\n",
      "59\n",
      "59\n",
      "59\n",
      "59\n",
      "59\n",
      "61\n",
      "61\n",
      "61\n",
      "61\n",
      "61\n",
      "61\n",
      "63\n",
      "65\n",
      "65\n",
      "65\n",
      "67\n",
      "67\n",
      "67\n",
      "67\n",
      "67\n",
      "67\n",
      "67\n",
      "69\n",
      "71\n",
      "71\n",
      "71\n",
      "71\n",
      "71\n",
      "71\n",
      "71\n",
      "73\n",
      "73\n",
      "73\n",
      "73\n",
      "73\n",
      "73\n",
      "73\n",
      "75\n",
      "77\n",
      "77\n",
      "77\n",
      "77\n",
      "77\n",
      "79\n",
      "79\n",
      "79\n",
      "79\n",
      "79\n",
      "79\n",
      "79\n",
      "81\n",
      "83\n",
      "83\n",
      "83\n",
      "83\n",
      "83\n",
      "83\n",
      "83\n",
      "83\n",
      "85\n",
      "85\n",
      "85\n",
      "87\n",
      "89\n",
      "89\n",
      "89\n",
      "89\n",
      "89\n",
      "89\n",
      "89\n",
      "89\n",
      "91\n",
      "91\n",
      "91\n",
      "91\n",
      "91\n",
      "93\n",
      "95\n",
      "95\n",
      "95\n",
      "97\n",
      "97\n",
      "97\n",
      "97\n",
      "97\n",
      "97\n",
      "97\n",
      "97\n",
      "99\n"
     ]
    }
   ],
   "source": [
    "#Write a prigram to print all the prime numbers between 1  and 100\n",
    "\n",
    "for num in range(2,101):\n",
    "    is_prime = True\n",
    "    for i in range(2,int(num ** 0.5) + 1):\n",
    "        if num % i == 0:\n",
    "            is_prime = False\n",
    "            break\n",
    "        if is_prime:\n",
    "            print(num)\n",
    "            "
   ]
  },
  {
   "cell_type": "code",
   "execution_count": 14,
   "id": "a4e76349",
   "metadata": {},
   "outputs": [
    {
     "name": "stdout",
     "output_type": "stream",
     "text": [
      "120\n"
     ]
    }
   ],
   "source": [
    "# Write a program to find the factorial of  a number\n",
    "\n",
    "num = 5\n",
    "factorial = 1\n",
    "for i in range (1, num + 1):\n",
    "    factorial *= i\n",
    "print(factorial)    \n",
    "    \n"
   ]
  },
  {
   "cell_type": "code",
   "execution_count": 18,
   "id": "ad3938a7",
   "metadata": {},
   "outputs": [
    {
     "name": "stdout",
     "output_type": "stream",
     "text": [
      "Revered String ECNEICS ATAD \n"
     ]
    }
   ],
   "source": [
    "#Write a program to reverse the string\n",
    "\n",
    "st = 'DATA SCIENCE'\n",
    "reverse_st = ' '\n",
    "for char in st:\n",
    "    reverse_st = char + reverse_st\n",
    "print('Revered String',reverse_st)    \n",
    "    \n",
    "    "
   ]
  },
  {
   "cell_type": "code",
   "execution_count": 23,
   "id": "696c2b62",
   "metadata": {},
   "outputs": [
    {
     "name": "stdout",
     "output_type": "stream",
     "text": [
      "The string is palindrome True\n"
     ]
    }
   ],
   "source": [
    "#Write a program to check if the string is a palindrome \n",
    "\n",
    "s = 'malayalam'\n",
    "\n",
    "is_palindrome = s == s[ : :-1]\n",
    "print('The string is palindrome', is_palindrome)"
   ]
  },
  {
   "cell_type": "code",
   "execution_count": 22,
   "id": "0c9ad884",
   "metadata": {},
   "outputs": [
    {
     "name": "stdout",
     "output_type": "stream",
     "text": [
      "malayalam\n",
      "Palindrome\n"
     ]
    }
   ],
   "source": [
    "s = 'malayalam'\n",
    "\n",
    "rev_st = s[ : :-1]\n",
    "print(rev_st)\n",
    "\n",
    "if s == rev_st:\n",
    "    print('Palindrome')\n",
    "else :\n",
    "    print('Not Palindrome')"
   ]
  },
  {
   "cell_type": "code",
   "execution_count": 26,
   "id": "efbef212",
   "metadata": {},
   "outputs": [
    {
     "name": "stdout",
     "output_type": "stream",
     "text": [
      "Vowels 3\n",
      "Consonants 7\n"
     ]
    }
   ],
   "source": [
    "#write a progarm to count the number of vowels and consonants in a string\n",
    "\n",
    "s ='Hello World'\n",
    "vowels = 'aeiou'\n",
    "\n",
    "vowels_count = 0\n",
    "consonants_count = 0\n",
    "\n",
    "for char in s .lower():\n",
    "    if char in vowels:\n",
    "        vowels_count += 1\n",
    "    elif  char.isalpha():\n",
    "        consonants_count += 1\n",
    "\n",
    "print('Vowels',vowels_count)\n",
    "print('Consonants',consonants_count)"
   ]
  },
  {
   "cell_type": "code",
   "execution_count": 27,
   "id": "b3f66658",
   "metadata": {},
   "outputs": [
    {
     "name": "stdout",
     "output_type": "stream",
     "text": [
      "Maximum number 65\n"
     ]
    }
   ],
   "source": [
    "#Write a progran to find the maximum number in a given list\n",
    "\n",
    "numbers = [10,21,7,14,65,56]\n",
    "max_num = numbers[0]\n",
    "\n",
    "for num in numbers:\n",
    "    if num > max_num:\n",
    "        max_num = num\n",
    "print('Maximum number',max_num)       \n",
    "        \n",
    "\n"
   ]
  },
  {
   "cell_type": "code",
   "execution_count": 28,
   "id": "a7e8daa2",
   "metadata": {},
   "outputs": [
    {
     "name": "stdout",
     "output_type": "stream",
     "text": [
      "Sum of even numbers 128\n"
     ]
    }
   ],
   "source": [
    "#Write a program to calculate the sum of all even numbers in a list\n",
    "\n",
    "numbers = [10,45,34,12,89,65,64,8]\n",
    "sum_even = 0\n",
    "\n",
    "for num in numbers:\n",
    "    if num % 2 == 0:\n",
    "        sum_even += num\n",
    "print('Sum of even numbers',sum_even)"
   ]
  },
  {
   "cell_type": "code",
   "execution_count": 29,
   "id": "523df2c0",
   "metadata": {},
   "outputs": [
    {
     "name": "stdout",
     "output_type": "stream",
     "text": [
      "1\t2\t3\t4\t5\t6\t7\t8\t9\t10\t\n",
      "2\t4\t6\t8\t10\t12\t14\t16\t18\t20\t\n",
      "3\t6\t9\t12\t15\t18\t21\t24\t27\t30\t\n",
      "4\t8\t12\t16\t20\t24\t28\t32\t36\t40\t\n",
      "5\t10\t15\t20\t25\t30\t35\t40\t45\t50\t\n",
      "6\t12\t18\t24\t30\t36\t42\t48\t54\t60\t\n",
      "7\t14\t21\t28\t35\t42\t49\t56\t63\t70\t\n",
      "8\t16\t24\t32\t40\t48\t56\t64\t72\t80\t\n",
      "9\t18\t27\t36\t45\t54\t63\t72\t81\t90\t\n",
      "10\t20\t30\t40\t50\t60\t70\t80\t90\t100\t\n"
     ]
    }
   ],
   "source": [
    "#Write a program to print multiplication table (from 1 to 10)\n",
    "\n",
    "for i in range(1,11):\n",
    "    for j in range(1,11):\n",
    "        print(i * j,end = '\\t')\n",
    "        \n",
    "    print()\n",
    "    \n",
    "    "
   ]
  },
  {
   "cell_type": "code",
   "execution_count": 30,
   "id": "fc46d0c0",
   "metadata": {},
   "outputs": [
    {
     "name": "stdout",
     "output_type": "stream",
     "text": [
      "Squares of Even numbers [4, 16, 36, 64, 100]\n"
     ]
    }
   ],
   "source": [
    "#Use list comprehension to create a list of squares of even numbers \n",
    "#from a list\n",
    "\n",
    "numbers =[1,2,3,4,5,6,7,8,9,10]\n",
    "\n",
    "squares_even = [num ** 2 for num in numbers if num % 2 == 0]\n",
    "print('Squares of Even numbers',squares_even)"
   ]
  },
  {
   "cell_type": "code",
   "execution_count": 32,
   "id": "6dcbd6be",
   "metadata": {},
   "outputs": [
    {
     "name": "stdout",
     "output_type": "stream",
     "text": [
      "The common elements in list 1 and list 2 [2, 3, 5]\n"
     ]
    }
   ],
   "source": [
    "#Write a program to find the common elements in two lists.\n",
    "\n",
    "list1 = [ 1,2,3,4,5,6]\n",
    "list2 = [2,5,10,34,7,3]\n",
    "\n",
    "common_elements = [element for element in list1 if element in list2]\n",
    "print('The common elements in list 1 and list 2',common_elements)"
   ]
  },
  {
   "cell_type": "code",
   "execution_count": 33,
   "id": "ab9182c5",
   "metadata": {},
   "outputs": [
    {
     "name": "stdout",
     "output_type": "stream",
     "text": [
      "Average 5.0\n"
     ]
    }
   ],
   "source": [
    "#Write a program to find the average of numbers in a list.\n",
    "\n",
    "numbers = [1,2,3,4,5,6,7,8,9]\n",
    "average = sum(numbers)/ len(numbers)\n",
    "print('Average',average)"
   ]
  },
  {
   "cell_type": "code",
   "execution_count": 35,
   "id": "b639492a",
   "metadata": {},
   "outputs": [
    {
     "name": "stdout",
     "output_type": "stream",
     "text": [
      "Unique numbers : [1, 2, 3, 4, 5, 6, 7, 8, 9, 10]\n"
     ]
    }
   ],
   "source": [
    "#Write a program to remove the  dupliactes from alist\n",
    "\n",
    "numbers = [1,2,2,3,4,5,6,7,8,9,9,10,10,1,5]\n",
    "unique_num = []\n",
    "\n",
    "for num in numbers:\n",
    "    if num not in unique_num:\n",
    "        unique_num.append(num)\n",
    "print('Unique numbers :',unique_num)\n",
    "\n"
   ]
  },
  {
   "cell_type": "code",
   "execution_count": 37,
   "id": "b9d5e07f",
   "metadata": {},
   "outputs": [
    {
     "name": "stdout",
     "output_type": "stream",
     "text": [
      "Flattened List: [1, 2, 3, 4, 5, 6, 7, 8, 9]\n"
     ]
    }
   ],
   "source": [
    "#Write a program to flatten a nested list.\n",
    "\n",
    "nested_list =[[1,2,3,],[4,5], [6,7,8,9]]\n",
    "flattened_list = [item for sublist in nested_list for item in sublist]\n",
    "print('Flattened List:',flattened_list)"
   ]
  },
  {
   "cell_type": "code",
   "execution_count": 38,
   "id": "8372117c",
   "metadata": {},
   "outputs": [
    {
     "name": "stdout",
     "output_type": "stream",
     "text": [
      "Dictionary {'apple': 1, 'orange': 2, 'pear': 3, 'Kiwi': 4}\n"
     ]
    }
   ],
   "source": [
    "#Write a program to generate a dictionary from 2 lists\n",
    "#one for keys nad another for values\n",
    "\n",
    "keys =['apple','orange','pear','Kiwi']\n",
    "values = [1,2,3,4]\n",
    "\n",
    "dictionary = dict(zip(keys,values))\n",
    "print('Dictionary',dictionary)"
   ]
  },
  {
   "cell_type": "code",
   "execution_count": 39,
   "id": "976eca39",
   "metadata": {},
   "outputs": [
    {
     "name": "stdout",
     "output_type": "stream",
     "text": [
      "Ocuurrences: {1: 4, 2: 2, 5: 2, 3: 1, 4: 2, 7: 1}\n"
     ]
    }
   ],
   "source": [
    "#Write a program to count the occurrences of each element in the list\n",
    "\n",
    "numbers = [1,1,1,2,5,3,1,2,4,7,5,4]\n",
    "count_dict = {}\n",
    "\n",
    "for num in numbers:\n",
    "    if num in count_dict:\n",
    "        count_dict[num] += 1\n",
    "    else:\n",
    "        count_dict[num] = 1\n",
    "print('Ocuurrences :', count_dict)"
   ]
  },
  {
   "cell_type": "code",
   "execution_count": 42,
   "id": "5226a10c",
   "metadata": {},
   "outputs": [
    {
     "ename": "SyntaxError",
     "evalue": "invalid syntax (453167442.py, line 9)",
     "output_type": "error",
     "traceback": [
      "\u001b[1;36m  Cell \u001b[1;32mIn[42], line 9\u001b[1;36m\u001b[0m\n\u001b[1;33m    transposed_matrix =[row[i]for row in matrix] for i in range(len(matrix[0])\u001b[0m\n\u001b[1;37m                                                 ^\u001b[0m\n\u001b[1;31mSyntaxError\u001b[0m\u001b[1;31m:\u001b[0m invalid syntax\n"
     ]
    }
   ],
   "source": [
    "#Write a program to transpose a given matrix\n",
    "\n",
    "matrix =[\n",
    "    [1,2,3,4],\n",
    "    [5,6,7,8],\n",
    "    [1,2,2,1]\n",
    "]\n",
    "\n",
    "transposed_matrix =[row[i]for row in matrix] for i in range(len(matrix[0])\n",
    "print('Transposed matrix',transposed_matrix)"
   ]
  },
  {
   "cell_type": "code",
   "execution_count": 43,
   "id": "fa3dc331",
   "metadata": {},
   "outputs": [
    {
     "name": "stdout",
     "output_type": "stream",
     "text": [
      "Are anagrams: True\n"
     ]
    }
   ],
   "source": [
    "#Write a program to check if two strings are anagrams\n",
    "\n",
    "str1 ='listen'\n",
    "str2 = 'silent'\n",
    "\n",
    "is_anagram = sorted(str1) == sorted(str2)\n",
    "print('Are anagrams:', is_anagram)"
   ]
  },
  {
   "cell_type": "markdown",
   "id": "f5bfd4ea",
   "metadata": {},
   "source": [
    "# Practice"
   ]
  },
  {
   "cell_type": "code",
   "execution_count": 45,
   "id": "8585688f",
   "metadata": {},
   "outputs": [
    {
     "name": "stdout",
     "output_type": "stream",
     "text": [
      "Scientist\n"
     ]
    }
   ],
   "source": [
    "#Write a program to find the longest word in a sentence\n",
    "\n",
    "sentence ='I am a Data Scientist'\n",
    "\n",
    "#split the words in the sentence using space\n",
    "words = list(sentence.split(' '))\n",
    "\n",
    "#sort the words of the sentence in their increasing order.\n",
    "words_sorted = sorted(words,key = len)\n",
    "\n",
    "#print the longest word in the words_sorted list\n",
    "print(words_sorted[-1])\n",
    "\n",
    "\n"
   ]
  },
  {
   "cell_type": "code",
   "execution_count": null,
   "id": "fb178c26",
   "metadata": {},
   "outputs": [],
   "source": []
  }
 ],
 "metadata": {
  "kernelspec": {
   "display_name": "Python 3 (ipykernel)",
   "language": "python",
   "name": "python3"
  },
  "language_info": {
   "codemirror_mode": {
    "name": "ipython",
    "version": 3
   },
   "file_extension": ".py",
   "mimetype": "text/x-python",
   "name": "python",
   "nbconvert_exporter": "python",
   "pygments_lexer": "ipython3",
   "version": "3.8.19"
  }
 },
 "nbformat": 4,
 "nbformat_minor": 5
}
