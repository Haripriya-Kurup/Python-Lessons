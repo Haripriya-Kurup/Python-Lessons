{
 "cells": [
  {
   "cell_type": "markdown",
   "id": "d6bd4216",
   "metadata": {},
   "source": [
    "# Data Structure in Python\n",
    "\n",
    "Helps in organising and storing data components efficiently\n",
    "- multiple inbuilt datstructures are there in python\n",
    "- different structures in python - list ,tuples, arrays, queues ,stacks ,graphs , dictionaries \n",
    "\n",
    "- main focus on lists,dictionaries"
   ]
  },
  {
   "cell_type": "markdown",
   "id": "02796a3a",
   "metadata": {},
   "source": [
    "## Lists\n",
    "\n",
    "- Present in the ordered form\n",
    "- All the items in the lists are MUTABLE( can be changed)\n",
    "- [ ] brackets are used to create lists \n",
    " - items can be of any datatype\n",
    " - output is always presented as a list.\n",
    " \n",
    " REALWORLD EXAMPLE\n",
    " \n",
    " *shopping cart\n",
    " \n",
    " *To do lists\n",
    " \n",
    " *Append lists \n"
   ]
  },
  {
   "cell_type": "code",
   "execution_count": 3,
   "id": "25a9fcae",
   "metadata": {},
   "outputs": [
    {
     "name": "stdout",
     "output_type": "stream",
     "text": [
      "[' apple', 1, 'banana', 2, 'Kiwi', 3]\n"
     ]
    }
   ],
   "source": [
    "# Creat a list\n",
    "\n",
    "fruits = ['apple',1, 'banana', 2, 'Kiwi', 3]\n",
    "print(fruits)"
   ]
  },
  {
   "cell_type": "code",
   "execution_count": 5,
   "id": "996a3d5c",
   "metadata": {},
   "outputs": [
    {
     "name": "stdout",
     "output_type": "stream",
     "text": [
      "banana\n"
     ]
    }
   ],
   "source": [
    "# Accessing the element using lists\n",
    "# 6 elements and indexing is from 0 to 5.\n",
    "\n",
    "print(fruits[2])\n"
   ]
  },
  {
   "cell_type": "code",
   "execution_count": 14,
   "id": "fcaa8d0d",
   "metadata": {},
   "outputs": [
    {
     "name": "stdout",
     "output_type": "stream",
     "text": [
      "[' apple', 1, 'banana', 2, 'Kiwi', 3]\n",
      "[1, 'banana', 2]\n",
      "[' apple', 1, 'banana', 2]\n",
      "[1, 'banana', 2, 'Kiwi', 3]\n"
     ]
    }
   ],
   "source": [
    "# SLICING \n",
    "# list[ inclusive : exclusive :step]\n",
    "print(fruits)\n",
    "print(fruits[1 :4])\n",
    "print(fruits[ : 4])\n",
    "\n",
    "print(fruits[1: ])\n",
    "list1 =[1,3,5]\n",
    "#print(fruits[[1,3,5]])\n",
    "# list comprehension\n",
    "#print(fruits[])"
   ]
  },
  {
   "cell_type": "code",
   "execution_count": 16,
   "id": "f8ed20bb",
   "metadata": {},
   "outputs": [
    {
     "name": "stdout",
     "output_type": "stream",
     "text": [
      "[' apple', 1, 'banana', 2, 'Cherry', 3]\n"
     ]
    }
   ],
   "source": [
    "# Modifying the lists \n",
    "fruits[4] ='Cherry'\n",
    "print(fruits)"
   ]
  },
  {
   "cell_type": "code",
   "execution_count": 19,
   "id": "28aca174",
   "metadata": {},
   "outputs": [
    {
     "name": "stdout",
     "output_type": "stream",
     "text": [
      "[3, 'Cherry', 2, 'banana', 1, ' apple']\n"
     ]
    }
   ],
   "source": [
    "#Reversing the list\n",
    "\n",
    "fruits.reverse()\n",
    "print(fruits)\n"
   ]
  },
  {
   "cell_type": "code",
   "execution_count": 20,
   "id": "cab22c08",
   "metadata": {},
   "outputs": [
    {
     "data": {
      "text/plain": [
       "[3, 'Cherry', 2, 'banana', 1, ' apple']"
      ]
     },
     "execution_count": 20,
     "metadata": {},
     "output_type": "execute_result"
    }
   ],
   "source": [
    "fruits"
   ]
  },
  {
   "cell_type": "code",
   "execution_count": 23,
   "id": "ae5de25d",
   "metadata": {},
   "outputs": [
    {
     "name": "stdout",
     "output_type": "stream",
     "text": [
      "[' apple', 1, 'banana', 2, 'Cherry', 3]\n"
     ]
    }
   ],
   "source": [
    "# Reversing the list\n",
    "revers_list = fruits[ : : -1]\n",
    "print(revers_list)"
   ]
  },
  {
   "cell_type": "code",
   "execution_count": 24,
   "id": "128a261a",
   "metadata": {},
   "outputs": [
    {
     "ename": "TypeError",
     "evalue": "list indices must be integers or slices, not list",
     "output_type": "error",
     "traceback": [
      "\u001b[1;31m---------------------------------------------------------------------------\u001b[0m",
      "\u001b[1;31mTypeError\u001b[0m                                 Traceback (most recent call last)",
      "Cell \u001b[1;32mIn[24], line 2\u001b[0m\n\u001b[0;32m      1\u001b[0m list1 \u001b[38;5;241m=\u001b[39m[\u001b[38;5;241m1\u001b[39m,\u001b[38;5;241m3\u001b[39m,\u001b[38;5;241m5\u001b[39m]\n\u001b[1;32m----> 2\u001b[0m \u001b[38;5;28mprint\u001b[39m(\u001b[43mfruits\u001b[49m\u001b[43m[\u001b[49m\u001b[43mlist1\u001b[49m\u001b[43m]\u001b[49m)\n",
      "\u001b[1;31mTypeError\u001b[0m: list indices must be integers or slices, not list"
     ]
    }
   ],
   "source": [
    "list1 =[1,3,5]\n",
    "print(fruits[list1])"
   ]
  },
  {
   "cell_type": "code",
   "execution_count": 25,
   "id": "1be00f74",
   "metadata": {},
   "outputs": [
    {
     "data": {
      "text/plain": [
       "[' apple', 'banana', 'Cherry']"
      ]
     },
     "execution_count": 25,
     "metadata": {},
     "output_type": "execute_result"
    }
   ],
   "source": [
    "fruits[ : : -2]"
   ]
  },
  {
   "cell_type": "code",
   "execution_count": 26,
   "id": "80b6662b",
   "metadata": {},
   "outputs": [
    {
     "data": {
      "text/plain": [
       "[3, 'Cherry', 2, 'banana', 1, ' apple']"
      ]
     },
     "execution_count": 26,
     "metadata": {},
     "output_type": "execute_result"
    }
   ],
   "source": [
    "fruits"
   ]
  },
  {
   "cell_type": "code",
   "execution_count": 27,
   "id": "997b3c95",
   "metadata": {},
   "outputs": [
    {
     "data": {
      "text/plain": [
       "[' apple', 'banana', 'Cherry']"
      ]
     },
     "execution_count": 27,
     "metadata": {},
     "output_type": "execute_result"
    }
   ],
   "source": [
    "fruits[ : : -2]"
   ]
  },
  {
   "cell_type": "code",
   "execution_count": 28,
   "id": "059400b3",
   "metadata": {},
   "outputs": [
    {
     "data": {
      "text/plain": [
       "[' apple', 1, 'banana', 2, 'Cherry', 3]"
      ]
     },
     "execution_count": 28,
     "metadata": {},
     "output_type": "execute_result"
    }
   ],
   "source": [
    "fruits[ : : -1]"
   ]
  },
  {
   "cell_type": "markdown",
   "id": "15584b77",
   "metadata": {},
   "source": [
    "#  Tuples \n",
    "theu are unmutable : you cannot change any element in a tuple \n",
    "\n",
    "can only acces the elements\n",
    "\n",
    "\n",
    "round brackets are used ()\n",
    "\n",
    "heterogenous elements are stored.\n",
    "\n",
    "REALTIME EXAMPLES WHERE TUPLES CAN BE USED \n",
    "\n",
    "Tuples can be best used when storing the geographical coordinates like Latitude and Longitude.\n",
    "\n",
    "Database queries ,we can use tuples\n",
    "\n",
    "For colour scheme eg:(Red,0),(Green,1)"
   ]
  },
  {
   "cell_type": "code",
   "execution_count": 31,
   "id": "9163a543",
   "metadata": {},
   "outputs": [
    {
     "name": "stdout",
     "output_type": "stream",
     "text": [
      "1\n",
      "(2, 3, 4)\n"
     ]
    }
   ],
   "source": [
    "#Creating a tuple\n",
    "my_tuple = (1,2,3,4,5)\n",
    "\n",
    "#Accessing elements\n",
    "print(my_tuple[0])\n",
    "\n",
    "#Tuples are immutable \n",
    "# my_tuple[0] = 10 # throws an error as you are trying to change the item of a tuple .b/c tuple is immutable.\n",
    "\n",
    "#Slicing\n",
    "print(my_tuple[1:4])"
   ]
  },
  {
   "cell_type": "markdown",
   "id": "ba63ab74",
   "metadata": {},
   "source": [
    "# Dictionaries\n",
    "\n",
    "* can be created using {key: [values]}\n",
    "\n",
    "* they are mutable.\n",
    "\n",
    "*Keys are unique and values can be duplicated"
   ]
  },
  {
   "cell_type": "code",
   "execution_count": 34,
   "id": "6356cc45",
   "metadata": {},
   "outputs": [
    {
     "name": "stdout",
     "output_type": "stream",
     "text": [
      "{'Name': 'Priya', 'Age': 41, 'City': 'London'}\n",
      "Priya\n",
      "{'Name': 'Priya', 'Age': 41, 'City': 'London', 'email': 'priyask@gmail.com'}\n",
      "{'Name': 'Priya', 'Age': 41, 'City': 'London'}\n"
     ]
    }
   ],
   "source": [
    "#Creating a dictionary\n",
    "\n",
    "my_dict = {'Name' : 'Priya', 'Age':41, 'City':'London'}\n",
    "\n",
    "print(my_dict)\n",
    "\n",
    "#Accessing values\n",
    "print(my_dict['Name'])\n",
    "\n",
    "#Adding Key value pairs\n",
    "\n",
    "my_dict['email'] = 'priyask@gmail.com'\n",
    "\n",
    "print(my_dict)\n",
    "\n",
    "#Removing key-value pairs\n",
    "del my_dict['email']\n",
    "\n",
    "print(my_dict)"
   ]
  },
  {
   "cell_type": "markdown",
   "id": "657e3205",
   "metadata": {},
   "source": [
    "## Sets -\n",
    "\n",
    "*unordered colection of elements.\n",
    "\n",
    "*{} used to create sets \n",
    "\n",
    "*no elements can be repeated.\n",
    "\n",
    "*they are mutable\n",
    "\n",
    "*no indexing in sets \n",
    "\n",
    "REALTIME SCENARIOS\n",
    "\n",
    "Social media analysis\n",
    "\n",
    "Dataset is having any duplicated values\n",
    "\n",
    "In the marketing department - email marketing , basically manges the subscriber list \n",
    "\n",
    "website analytics can be used."
   ]
  },
  {
   "cell_type": "code",
   "execution_count": 46,
   "id": "4b10501d",
   "metadata": {},
   "outputs": [
    {
     "name": "stdout",
     "output_type": "stream",
     "text": [
      "{1, 2, 3, 4, 5, 6}\n",
      "\n",
      "my_set\n",
      "{1, 2, 4, 5, 6}\n",
      "\n",
      "another set\n",
      "{4, 5, 6, 7, 8}\n",
      "\n",
      "Set operations\n",
      "{4, 5, 6}\n",
      "{1, 2, 4, 5, 6, 7, 8}\n",
      "{1, 2}\n"
     ]
    }
   ],
   "source": [
    "# Creating a set\n",
    "my_set = {1,2,3,4,5}\n",
    "\n",
    "#Adding elements\n",
    "my_set.add(6)\n",
    "print(my_set)\n",
    "\n",
    "my_set.remove(3)\n",
    "print('\\nmy_set')\n",
    "print(my_set)\n",
    "\n",
    "\n",
    "#Set operations\n",
    "another_set = {4,5,6,7,8}\n",
    "print('\\nanother set')\n",
    "print(another_set)\n",
    "\n",
    "print('\\nSet operations')\n",
    "print(my_set & another_set) #intersection\n",
    "print(my_set | another_set) # union\n",
    "print(my_set - another_set) #difference {1,2}\n"
   ]
  },
  {
   "cell_type": "code",
   "execution_count": 53,
   "id": "16533fa3",
   "metadata": {},
   "outputs": [
    {
     "name": "stdout",
     "output_type": "stream",
     "text": [
      "[('name', 'Alice'), ('Age', 25), ('City', 'New York')]\n",
      "{'name': 'Alice', 'Age': 25, 'City': 'New York'}\n"
     ]
    },
    {
     "data": {
      "text/plain": [
       "{'Alice': (56, 25.65)}"
      ]
     },
     "execution_count": 53,
     "metadata": {},
     "output_type": "execute_result"
    }
   ],
   "source": [
    "#How can you convert a list of tuples into a dictioanry in a Python ?\n",
    "\n",
    "list_of_tuples =[('name', 'Alice'),('Age',25),('City','New York')]\n",
    "\n",
    "print(list_of_tuples)\n",
    "my_dict =dict(list_of_tuples)\n",
    "print(my_dict)\n",
    "\n",
    "students =[('Alice',(56,25.65))]\n",
    "dict(students)"
   ]
  },
  {
   "cell_type": "code",
   "execution_count": 52,
   "id": "45496b57",
   "metadata": {},
   "outputs": [
    {
     "name": "stdout",
     "output_type": "stream",
     "text": [
      "{'name': 'Alice', 'Age': 25}\n",
      "{'City': 'New York', 'email': 'alice@gmail.com'}\n",
      "{'name': 'Alice', 'Age': 25, 'City': 'New York', 'email': 'alice@gmail.com'}\n"
     ]
    }
   ],
   "source": [
    "#How can you merge two dictionaries in Python ?\n",
    "\n",
    "dict1 ={ 'name':'Alice','Age':25}\n",
    "dict2 ={'City':'New York','email': 'alice@gmail.com'}\n",
    "\n",
    "print(dict1)\n",
    "print(dict2)\n",
    "\n",
    "#using update()\n",
    "\n",
    "dict1.update(dict2)\n",
    "print(dict1)\n",
    "\n",
    "#using dictionary unpacking(Python 3.5+)\n",
    "\n",
    "merged_dict = {**dict1, **dict2}\n",
    "print(merged_dict)"
   ]
  },
  {
   "cell_type": "code",
   "execution_count": null,
   "id": "322b744c",
   "metadata": {},
   "outputs": [],
   "source": [
    "#What are the main differences between lists and tuples in Python."
   ]
  },
  {
   "cell_type": "code",
   "execution_count": 58,
   "id": "429f7dc1",
   "metadata": {},
   "outputs": [
    {
     "name": "stdout",
     "output_type": "stream",
     "text": [
      "[0, 1, 1, 2, 2, 3, 5, 7]\n",
      "[7, 5, 3, 2, 2, 1, 1, 0]\n",
      "[0, 2, 3, 3, 5, 8, 9]\n"
     ]
    }
   ],
   "source": [
    "#How can you sort a list in Python ?\n",
    "my_list = [ 3,1,5,2,7,2,0,1]\n",
    "\n",
    "list2 =[3,5,2,8,3,9,0]\n",
    "\n",
    "my_list.sort()\n",
    "print(my_list)\n",
    "my_list.sort(reverse = True)\n",
    "print(my_list)\n",
    "\n",
    "#using sorted function\n",
    "sorted_list = sorted(list2)\n",
    "print(sorted_list)\n",
    "\n",
    "\n",
    "\n",
    "#"
   ]
  },
  {
   "cell_type": "markdown",
   "id": "8c7f844a",
   "metadata": {},
   "source": [
    "#sort functions cannot be used ditrectly in tuples , Convert the tuple in the list "
   ]
  },
  {
   "cell_type": "code",
   "execution_count": 59,
   "id": "31dd2e0f",
   "metadata": {},
   "outputs": [
    {
     "name": "stdout",
     "output_type": "stream",
     "text": [
      "(1, 2, 3, 4, 5, 6)\n"
     ]
    }
   ],
   "source": [
    "#How can you concatenate two tuples in  Python\n",
    "\n",
    "tuple1 =(1,2,3)\n",
    "\n",
    "tuple2 = (4,5,6)\n",
    "concat_tuple = tuple1 + tuple2\n",
    "print(concat_tuple)"
   ]
  },
  {
   "cell_type": "code",
   "execution_count": null,
   "id": "94de6f12",
   "metadata": {},
   "outputs": [],
   "source": []
  }
 ],
 "metadata": {
  "kernelspec": {
   "display_name": "Python 3 (ipykernel)",
   "language": "python",
   "name": "python3"
  },
  "language_info": {
   "codemirror_mode": {
    "name": "ipython",
    "version": 3
   },
   "file_extension": ".py",
   "mimetype": "text/x-python",
   "name": "python",
   "nbconvert_exporter": "python",
   "pygments_lexer": "ipython3",
   "version": "3.8.19"
  }
 },
 "nbformat": 4,
 "nbformat_minor": 5
}
