{
 "cells": [
  {
   "cell_type": "code",
   "execution_count": 1,
   "id": "32458ba2",
   "metadata": {},
   "outputs": [
    {
     "name": "stdout",
     "output_type": "stream",
     "text": [
      "Scientist\n"
     ]
    }
   ],
   "source": [
    "#Program 1: Write a program to find the longest word in a sentence\n",
    "\n",
    "sentence ='I am a Data Scientist'\n",
    "\n",
    "#split the words in the sentence using space\n",
    "words = list(sentence.split(' '))\n",
    "\n",
    "#sort the words of the sentence in their increasing order.\n",
    "words_sorted = sorted(words,key = len)\n",
    "\n",
    "#print the longest word in the words_sorted list\n",
    "print(words_sorted[-1])\n"
   ]
  },
  {
   "cell_type": "code",
   "execution_count": 2,
   "id": "dc0b4fb7",
   "metadata": {},
   "outputs": [
    {
     "name": "stdout",
     "output_type": "stream",
     "text": [
      "2\n",
      "3\n",
      "5\n",
      "7\n",
      "11\n",
      "13\n",
      "17\n",
      "19\n",
      "23\n",
      "29\n",
      "31\n",
      "37\n",
      "41\n",
      "43\n",
      "47\n",
      "53\n",
      "59\n",
      "61\n",
      "67\n",
      "71\n",
      "73\n",
      "79\n",
      "83\n",
      "89\n",
      "97\n"
     ]
    }
   ],
   "source": [
    "#Program 2: Write a program to generate the first n prime numbers.\n",
    "\n",
    "def prime(num):\n",
    "    #if the number is 0 or 1 ,its not a prime number\n",
    "    if (num == 0 | num == 1):\n",
    "        return False\n",
    "    for i in range(2, (num//2) + 1):\n",
    "        if num % i == 0:\n",
    "            return False\n",
    "    return True\n",
    "    \n",
    "\n",
    "n =100\n",
    "for i in range(1, n+1):\n",
    "    if prime(i):\n",
    "        print(i)\n",
    "\n"
   ]
  },
  {
   "cell_type": "code",
   "execution_count": 3,
   "id": "8cf6af07",
   "metadata": {},
   "outputs": [
    {
     "name": "stdout",
     "output_type": "stream",
     "text": [
      "1100100\n"
     ]
    }
   ],
   "source": [
    "#Program 3: Write a program to convert a decimal number to binary\n",
    "binary = ''\n",
    "n = 100\n",
    "while(n >=1):\n",
    "    rem = n % 2\n",
    "    n = n // 2\n",
    "    binary = str(rem) + binary\n",
    "print(binary)"
   ]
  },
  {
   "cell_type": "code",
   "execution_count": 4,
   "id": "cf04c381",
   "metadata": {},
   "outputs": [
    {
     "name": "stdout",
     "output_type": "stream",
     "text": [
      "[{'name': 'Cornie', 'age': 4}, {'name': 'Kate', 'age': 14}, {'name': 'Sam', 'age': 22}, {'name': 'Sarah', 'age': 24}, {'name': 'Olivia', 'age': 24}]\n",
      "[{'name': 'Cornie', 'age': 4}, {'name': 'Kate', 'age': 14}, {'name': 'Olivia', 'age': 24}, {'name': 'Sam', 'age': 22}, {'name': 'Sarah', 'age': 24}]\n"
     ]
    }
   ],
   "source": [
    "#Program 4: Write a program to sort a list of dictionaries by a specified key.\n",
    "\n",
    "#Create a list of Dictionaries\n",
    "\n",
    "student_dict_list =[{'name':'Sarah','age':24},\n",
    "                    {'name' : 'Olivia', 'age' :24},\n",
    "                    {'name' : 'Kate', 'age' : 14},\n",
    "                    {'name' : 'Cornie', 'age':4},\n",
    "                    {'name' : 'Sam', 'age' :22}\n",
    "                    ]\n",
    "sorted_list_age = sorted(student_dict_list, key = lambda x: x['age'])\n",
    "print(sorted_list_age)\n",
    "\n",
    "sorted_list_name = sorted(student_dict_list, key = lambda x:x['name'])\n",
    "print(sorted_list_name)\n"
   ]
  },
  {
   "cell_type": "code",
   "execution_count": 5,
   "id": "7d59f2a8",
   "metadata": {},
   "outputs": [
    {
     "name": "stdout",
     "output_type": "stream",
     "text": [
      "5\n"
     ]
    }
   ],
   "source": [
    "#program 5:Write a prohram to find the GCD of 2 numbers\n",
    "\n",
    "import math\n",
    "\n",
    "num1 = 5\n",
    "num2 = 10\n",
    "\n",
    "print(math.gcd(num1,num2))\n",
    "\n"
   ]
  },
  {
   "cell_type": "code",
   "execution_count": 6,
   "id": "fd953917",
   "metadata": {},
   "outputs": [
    {
     "name": "stdout",
     "output_type": "stream",
     "text": [
      "0\n",
      "1\n",
      "1\n",
      "2\n",
      "3\n",
      "5\n",
      "8\n",
      "13\n",
      "21\n",
      "34\n"
     ]
    }
   ],
   "source": [
    "#Program 6: Write a program to generate a list of n Fibonacci numbers\n",
    "\n",
    "n = 10\n",
    "\n",
    "a,b = 0, 1\n",
    "for _ in range(n):\n",
    "    print(a)\n",
    "    a,b = b, a+b"
   ]
  },
  {
   "cell_type": "code",
   "execution_count": 7,
   "id": "fe9658c6",
   "metadata": {},
   "outputs": [
    {
     "name": "stdout",
     "output_type": "stream",
     "text": [
      "[2, 7]\n"
     ]
    }
   ],
   "source": [
    "#Progarm 7: write a progarm to find the intersection of 2 lists\n",
    "\n",
    "list1 = [2,5,6,7]\n",
    "list2 = [3,4,2,7]\n",
    "\n",
    "common_elements =[element for element in list1 if element in list2]\n",
    "print(common_elements)"
   ]
  },
  {
   "cell_type": "code",
   "execution_count": 8,
   "id": "82b8ce9e",
   "metadata": {},
   "outputs": [
    {
     "name": "stdout",
     "output_type": "stream",
     "text": [
      "[2, 3, 4, 5, 5, 6, 7, 10]\n"
     ]
    }
   ],
   "source": [
    "#Program 8:Write a program to merge 2 sorted lists into a single sorted list.\n",
    "\n",
    "list1 = [3,2,5,6]\n",
    "list2 = [7,4,5,10]\n",
    "\n",
    "\n",
    "for element in list2:\n",
    "     list1.append(element)\n",
    "\n",
    "\n",
    "print(sorted(list1))\n"
   ]
  },
  {
   "cell_type": "code",
   "execution_count": 9,
   "id": "1a54d876",
   "metadata": {},
   "outputs": [
    {
     "name": "stdout",
     "output_type": "stream",
     "text": [
      "(-10-49j)\n"
     ]
    }
   ],
   "source": [
    "#Program 9: to calculate the dot product of 2 vectors\n",
    "import numpy as np\n",
    "v1 = 4 + 5j\n",
    "v2 = 5 - 6j\n",
    "\n",
    "dot_product = np.vdot(v1,v2)\n",
    "print(dot_product)"
   ]
  },
  {
   "cell_type": "code",
   "execution_count": 10,
   "id": "8026966a",
   "metadata": {},
   "outputs": [
    {
     "name": "stdout",
     "output_type": "stream",
     "text": [
      "\\Please choose the options for the following operations :\n",
      "1. Add\n",
      "2. Subtract\n",
      "3. Multiply\n",
      "4. Divide\n",
      "\n",
      "Select the opeartions from  1, 2,3 or 4 : 3\n",
      "Enter the first number : 3\n",
      "Enter the second number: 4\n",
      "The product of 2 numbers is 12\n"
     ]
    }
   ],
   "source": [
    "#Program 10 :\n",
    "# implement simple calculator taht can perform simple operations(+,-,*,/)\n",
    "\n",
    "print('\\Please choose the options for the following operations :\\n'\\\n",
    "      '1. Add\\n'\\\n",
    "      '2. Subtract\\n'\\\n",
    "      '3. Multiply\\n'\\\n",
    "      '4. Divide\\n'\n",
    "\n",
    ")\n",
    "\n",
    "option = int(input('Select the opeartions from  1, 2,3 or 4 : '))\n",
    "num1 = int(input('Enter the first number : '))\n",
    "num2 = int(input('Enter the second number: '))\n",
    "\n",
    "if option == 1:\n",
    "    print('The sum of 2 numbers',num1 + num2)\n",
    "elif option == 2:\n",
    "    print('The difference of 2 numbers', num1 - num2)\n",
    "elif option == 3:\n",
    "    print('The product of 2 numbers is',num1 * num2)\n",
    "elif option == 4:\n",
    "    print(num1, '/', num2, '=', num1/num2)\n",
    "else:\n",
    "    print('Invalid Entry')"
   ]
  },
  {
   "cell_type": "code",
   "execution_count": null,
   "id": "43900a7f",
   "metadata": {},
   "outputs": [],
   "source": []
  }
 ],
 "metadata": {
  "kernelspec": {
   "display_name": "Python 3 (ipykernel)",
   "language": "python",
   "name": "python3"
  },
  "language_info": {
   "codemirror_mode": {
    "name": "ipython",
    "version": 3
   },
   "file_extension": ".py",
   "mimetype": "text/x-python",
   "name": "python",
   "nbconvert_exporter": "python",
   "pygments_lexer": "ipython3",
   "version": "3.8.19"
  }
 },
 "nbformat": 4,
 "nbformat_minor": 5
}
